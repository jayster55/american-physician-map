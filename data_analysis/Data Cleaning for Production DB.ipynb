{
 "cells": [
  {
   "cell_type": "markdown",
   "metadata": {},
   "source": [
    "# Data Cleaning & Analysis"
   ]
  },
  {
   "cell_type": "markdown",
   "metadata": {},
   "source": [
    "### Imports & Data Load"
   ]
  },
  {
   "cell_type": "code",
   "execution_count": 1,
   "metadata": {},
   "outputs": [],
   "source": [
    "import pandas as pd\n",
    "import os"
   ]
  },
  {
   "cell_type": "code",
   "execution_count": 2,
   "metadata": {},
   "outputs": [
    {
     "name": "stderr",
     "output_type": "stream",
     "text": [
      "/usr/local/lib/python3.6/site-packages/IPython/core/interactiveshell.py:2728: DtypeWarning: Columns (4,7,9,11,14,16,17,21,22,23,24,28,35,36,37,40,41,42,43,52,53,54,55,56,57,58,59,60,61,62,63,64,65,66,67,68,69,70,71,72) have mixed types. Specify dtype option on import or set low_memory=False.\n",
      "  interactivity=interactivity, compiler=compiler, result=result)\n"
     ]
    }
   ],
   "source": [
    "gnrl_df = pd.read_csv(\"./OP_DTL_GNRL_PGYR2016_P06292018.csv\")\n",
    "#ownership_df = pd.read_csv(\"./OP_DTL_OWNRSHP_PGYR2016_P06292018.csv\")\n",
    "#research_df = pd.read_csv(\"./OP_DTL_RSRCH_PGYR2016_P06292018.csv\")\n",
    "#removed_df = pd.read_csv(\"./OP_REMOVED_DELETED_PGYR2016_P06292018.csv\")"
   ]
  },
  {
   "cell_type": "markdown",
   "metadata": {},
   "source": [
    "### Data Trim"
   ]
  },
  {
   "cell_type": "code",
   "execution_count": 5,
   "metadata": {},
   "outputs": [
    {
     "name": "stdout",
     "output_type": "stream",
     "text": [
      "Processed Data\n",
      "Shape: (1846436, 10)\n",
      "                                      Physician_Specialty  \\\n",
      "count                                             1846436   \n",
      "unique                                                455   \n",
      "top     Allopathic & Osteopathic Physicians|Family Med...   \n",
      "freq                                               238231   \n",
      "\n",
      "       Physician_First_Name Physician_Middle_Name Physician_Last_Name  \\\n",
      "count               1846436               1846436             1846436   \n",
      "unique                75588                 48449              240141   \n",
      "top                 MICHAEL                                     PATEL   \n",
      "freq                  40390                761917               11238   \n",
      "\n",
      "       Physician_Name_Suffix Recipient_Primary_Business_Street_Address_Line1  \\\n",
      "count                1846436                                         1846436   \n",
      "unique                    97                                          549478   \n",
      "top                                                          9500 EUCLID AVE   \n",
      "freq                 1797509                                            2074   \n",
      "\n",
      "       Recipient_City Recipient_State Recipient_Country Recipient_Zip_Code  \n",
      "count         1846436         1846436           1846436            1846436  \n",
      "unique          20597              62                27             221338  \n",
      "top           HOUSTON              CA     United States              77030  \n",
      "freq            22541          183791           1846279               3936  \n",
      "1846436\n"
     ]
    }
   ],
   "source": [
    "#Grab needed columns\n",
    "#Not using postal code column since we only want american doctors\n",
    "required_cols = ['Physician_Specialty', 'Physician_First_Name', 'Physician_Middle_Name', 'Physician_Last_Name', 'Physician_Name_Suffix', 'Recipient_Primary_Business_Street_Address_Line1', 'Recipient_City', 'Recipient_State', 'Recipient_Country', 'Recipient_Zip_Code']\n",
    "raw_data = gnrl_df[required_cols]\n",
    "process_data = raw_data.dropna(subset=['Recipient_Primary_Business_Street_Address_Line1'])\n",
    "process_data = process_data.drop_duplicates(subset=['Recipient_Zip_Code',  'Physician_First_Name', 'Physician_Middle_Name', 'Physician_Last_Name'])\n",
    "process_data = process_data.fillna('')\n",
    "\n",
    "print(\"Processed Data\")\n",
    "print(\"Shape: \" + str(process_data.shape))\n",
    "print(process_data.describe())\n",
    "print(len(process_data))"
   ]
  },
  {
   "cell_type": "markdown",
   "metadata": {},
   "source": [
    "### Save "
   ]
  },
  {
   "cell_type": "code",
   "execution_count": 7,
   "metadata": {},
   "outputs": [],
   "source": [
    "process_data.to_csv(\"./processed_data.csv\", index=False)"
   ]
  }
 ],
 "metadata": {
  "kernelspec": {
   "display_name": "env",
   "language": "python",
   "name": "env"
  },
  "language_info": {
   "codemirror_mode": {
    "name": "ipython",
    "version": 3
   },
   "file_extension": ".py",
   "mimetype": "text/x-python",
   "name": "python",
   "nbconvert_exporter": "python",
   "pygments_lexer": "ipython3",
   "version": "3.6.5"
  }
 },
 "nbformat": 4,
 "nbformat_minor": 2
}
