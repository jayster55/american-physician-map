{
 "cells": [
  {
   "cell_type": "markdown",
   "metadata": {},
   "source": [
    "# Data Cleaning & Analysis"
   ]
  },
  {
   "cell_type": "markdown",
   "metadata": {},
   "source": [
    "### Imports & Data Load"
   ]
  },
  {
   "cell_type": "code",
   "execution_count": null,
   "metadata": {},
   "outputs": [],
   "source": [
    "import pandas as pd\n",
    "import googlemaps\n",
    "import os\n",
    "GMAPS_KEY = os.environ[\"GMAPS_KEY\"]"
   ]
  },
  {
   "cell_type": "code",
   "execution_count": 3,
   "metadata": {},
   "outputs": [
    {
     "name": "stderr",
     "output_type": "stream",
     "text": [
      "/usr/local/lib/python3.6/site-packages/IPython/core/interactiveshell.py:2728: DtypeWarning: Columns (4,7,9,11,14,16,17,21,22,23,24,28,35,36,37,40,41,42,43,52,53,54,55,56,57,58,59,60,61,62,63,64,65,66,67,68,69,70,71,72) have mixed types. Specify dtype option on import or set low_memory=False.\n",
      "  interactivity=interactivity, compiler=compiler, result=result)\n",
      "/usr/local/lib/python3.6/site-packages/IPython/core/interactiveshell.py:2728: DtypeWarning: Columns (2,5,7,8,9,10,15,17,18,19,20,21,22,23,24,30,32,35,37,38,42,43,44,45,47,48,49,50,51,52,53,54,55,56,59,60,61,62,67,68,69,70,71,72,73,74,75,76,79,80,81,82,87,88,89,90,91,92,93,94,95,96,99,100,101,107,108,109,110,111,112,113,114,115,116,119,120,121,122,123,129,132,133,134,135,136,137,138,139,140,141,142,143,144,145,146,147,148,149,150,151,152,153,154,155,156,160,161,162,163,173,174,175) have mixed types. Specify dtype option on import or set low_memory=False.\n",
      "  interactivity=interactivity, compiler=compiler, result=result)\n"
     ]
    }
   ],
   "source": [
    "gnrl_df = pd.read_csv(\"./OP_DTL_GNRL_PGYR2016_P06292018.csv\")\n",
    "#ownership_df = pd.read_csv(\"./OP_DTL_OWNRSHP_PGYR2016_P06292018.csv\")\n",
    "#research_df = pd.read_csv(\"./OP_DTL_RSRCH_PGYR2016_P06292018.csv\")\n",
    "#removed_df = pd.read_csv(\"./OP_REMOVED_DELETED_PGYR2016_P06292018.csv\")"
   ]
  },
  {
   "cell_type": "markdown",
   "metadata": {},
   "source": [
    "### Data Glance"
   ]
  },
  {
   "cell_type": "code",
   "execution_count": null,
   "metadata": {},
   "outputs": [],
   "source": [
    "#Grab needed columns\n",
    "required_cols = ['Physician_First_Name', 'Physician_Middle_Name', 'Physician_Last_Name', 'Recipient_Primary_Business_Street_Address_Line1'] ]\n",
    "raw_data = gnrl_df[required_cols]\n",
    "\n",
    "print(\"Raw Data\")\n",
    "print(\"Shape: \" + str(raw_data.shape))\n",
    "print(raw_data.describe())\n",
    "\n"
   ]
  },
  {
   "cell_type": "code",
   "execution_count": null,
   "metadata": {},
   "outputs": [],
   "source": [
    "gmaps = googlemaps.Client(key=GMAPS_KEY)\n",
    "def get_latitude_longitude(address, city):\n",
    "    if city:\n",
    "        address = str(address) + \", {}, Ontario, Canada\".format(city)\n",
    "    else:\n",
    "        address = str(address) + \", Ontario, Canada\"\n",
    "\n",
    "    geocode_result = gmaps.geocode(address)\n",
    "    lat = geocode_result[0]['geometry']['location']['lat']\n",
    "    lng = geocode_result[0]['geometry']['location']['lng']\n",
    "    return lat, lng"
   ]
  }
 ],
 "metadata": {
  "kernelspec": {
   "display_name": "env",
   "language": "python",
   "name": "env"
  },
  "language_info": {
   "codemirror_mode": {
    "name": "ipython",
    "version": 3
   },
   "file_extension": ".py",
   "mimetype": "text/x-python",
   "name": "python",
   "nbconvert_exporter": "python",
   "pygments_lexer": "ipython3",
   "version": "3.6.5"
  }
 },
 "nbformat": 4,
 "nbformat_minor": 2
}
